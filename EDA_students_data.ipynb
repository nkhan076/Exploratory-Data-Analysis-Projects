{
 "cells": [
  {
   "cell_type": "code",
   "execution_count": null,
   "metadata": {},
   "outputs": [],
   "source": [
    "# Load libraries\n",
    "import pandas as pd\n",
    "import numpy as np\n",
    "import codecademylib3\n",
    "import matplotlib.pyplot as plt\n",
    "import seaborn as sns\n"
   ]
  },
  {
   "cell_type": "code",
   "execution_count": null,
   "metadata": {},
   "outputs": [],
   "source": [
    "# Import data\n",
    "students = pd.read_csv('students.csv')\n",
    "\n",
    "# Print first few rows of data\n",
    "print(students.head())"
   ]
  },
  {
   "cell_type": "code",
   "execution_count": null,
   "metadata": {},
   "outputs": [],
   "source": [
    "\n",
    "# Print summary statistics for all columns\n",
    "print(students.describe(include='all'))\n",
    "# Calculate mean\n",
    "mean_math_grade= students.math_grade.mean()\n",
    "print(mean_math_grade)\n",
    "# Calculate median\n",
    "med_math_grade= students.math_grade.median()\n",
    "print(med_math_grade)\n",
    "# Calculate mode\n",
    "mode_math_grade= students.math_grade.mode()\n",
    "print(mode_math_grade)\n",
    "# Calculate range\n",
    "range= students.math_grade.max()- students.math_grade.min()\n",
    "print(range)\n",
    "# Calculate standard deviation\n",
    "std_= students.math_grade.std()\n",
    "print(std_)\n",
    "# Calculate MAD\n",
    "mad= students.math_grade.mad()\n",
    "print(mad)\n"
   ]
  },
  {
   "cell_type": "code",
   "execution_count": null,
   "metadata": {},
   "outputs": [],
   "source": [
    "# Create a histogram of math grades\n",
    "sns.histplot(x='math_grade', data= students)\n",
    "plt.show()\n",
    "plt.close()\n"
   ]
  },
  {
   "cell_type": "code",
   "execution_count": null,
   "metadata": {},
   "outputs": [],
   "source": [
    "# Create a box plot of math grades\n",
    "sns.boxplot(x='math_grade', data= students)\n",
    "plt.show()\n",
    "plt.close()"
   ]
  },
  {
   "cell_type": "code",
   "execution_count": null,
   "metadata": {},
   "outputs": [],
   "source": [
    "# Calculate number of students with mothers in each job category\n",
    "m_student_count= students.Mjob.value_counts()\n",
    "print(m_student_count)\n",
    "# Calculate proportion of students with mothers in each job category\n",
    "m_student_prop= students.Mjob.value_counts(normalize= True)\n",
    "print(m_student_prop)\n"
   ]
  },
  {
   "cell_type": "code",
   "execution_count": null,
   "metadata": {},
   "outputs": [],
   "source": [
    "# Create bar chart of Mjob\n",
    "sns.countplot(x='Mjob', data= students)\n",
    "plt.show()\n",
    "plt.clf()\n",
    "\n"
   ]
  },
  {
   "cell_type": "code",
   "execution_count": null,
   "metadata": {},
   "outputs": [],
   "source": [
    "# Create pie chart of Mjob\n",
    "students.Mjob.value_counts().plot.pie()\n",
    "plt.show()"
   ]
  }
 ],
 "metadata": {
  "kernelspec": {
   "display_name": "Python 3",
   "language": "python",
   "name": "python3"
  },
  "language_info": {
   "codemirror_mode": {
    "name": "ipython",
    "version": 3
   },
   "file_extension": ".py",
   "mimetype": "text/x-python",
   "name": "python",
   "nbconvert_exporter": "python",
   "pygments_lexer": "ipython3",
   "version": "3.6.3"
  }
 },
 "nbformat": 4,
 "nbformat_minor": 2
}
