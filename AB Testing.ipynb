{
 "cells": [
  {
   "cell_type": "markdown",
   "metadata": {},
   "source": [
    "A/B Testing for ShoeFly.com\n",
    "Our favorite online shoe store, ShoeFly.com is performing an A/B Test. They have two different versions of an ad, which they have placed in emails, as well as in banner ads on Facebook, Twitter, and Google. They want to know how the two ads are performing on each of the different platforms on each day of the week. Help them analyze the data using aggregate measures."
   ]
  },
  {
   "cell_type": "code",
   "execution_count": 1,
   "metadata": {},
   "outputs": [
    {
     "name": "stdout",
     "output_type": "stream",
     "text": [
      "                                user_id utm_source           day  \\\n",
      "0  008b7c6c-7272-471e-b90e-930d548bd8d7     google  6 - Saturday   \n",
      "1  009abb94-5e14-4b6c-bb1c-4f4df7aa7557   facebook    7 - Sunday   \n",
      "2  00f5d532-ed58-4570-b6d2-768df5f41aed    twitter   2 - Tuesday   \n",
      "3  011adc64-0f44-4fd9-a0bb-f1506d2ad439     google   2 - Tuesday   \n",
      "4  012137e6-7ae7-4649-af68-205b4702169c   facebook    7 - Sunday   \n",
      "\n",
      "  ad_click_timestamp experimental_group  \n",
      "0               7:18                  A  \n",
      "1                NaN                  B  \n",
      "2                NaN                  A  \n",
      "3                NaN                  B  \n",
      "4                NaN                  B  \n"
     ]
    }
   ],
   "source": [
    "import pandas as pd\n",
    "\n",
    "ad_clicks = pd.read_csv('Data/ad_clicks.csv')\n",
    "print(ad_clicks.head())\n"
   ]
  },
  {
   "cell_type": "code",
   "execution_count": null,
   "metadata": {},
   "outputs": [],
   "source": [
    "view_utm_source = ad_clicks.groupby('utm_source').user_id.count().reset_index()\n",
    "print(view_utm_source)"
   ]
  },
  {
   "cell_type": "code",
   "execution_count": null,
   "metadata": {},
   "outputs": [],
   "source": [
    "ad_clicks['is_click']=~ad_clicks['ad_click_timestamp'].isnull()\n",
    "clicks_by_source= ad_clicks.groupby(['utm_source', 'is_click']).user_id.count().reset_index()\n",
    "clicks_pivot= clicks_by_source.pivot(columns='is_click',\n",
    "index='utm_source', values='user_id'). reset_index()\n",
    "print(clicks_pivot)"
   ]
  },
  {
   "cell_type": "code",
   "execution_count": null,
   "metadata": {},
   "outputs": [],
   "source": [
    "clicks_pivot['percent_clicked']=clicks_pivot[True]/\\\n",
    "(clicks_pivot[True]+clicks_pivot[False])\n",
    "print(clicks_pivot)"
   ]
  },
  {
   "cell_type": "code",
   "execution_count": null,
   "metadata": {},
   "outputs": [],
   "source": [
    "ab_count=ad_clicks.groupby('experimental_group').user_id.count().reset_index()\n",
    "print(ab_count)\n",
    "\n",
    "ab_click_percentage = ad_clicks.groupby(['experimental_group','is_click']).user_id.count().reset_index()\n",
    "print(ab_click_percentage)\n",
    "\n",
    "ab_click_percentage_pivot= ab_click_percentage.pivot(\n",
    "  columns='is_click', index='experimental_group',\n",
    "  values='user_id'\n",
    ").reset_index()\n",
    "print(ab_click_percentage_pivot)"
   ]
  },
  {
   "cell_type": "code",
   "execution_count": null,
   "metadata": {},
   "outputs": [],
   "source": [
    "a_clicks=ad_clicks[ad_clicks['experimental_group']=='A']\n",
    "\n",
    "b_clicks=ad_clicks[ad_clicks['experimental_group']=='B']\n",
    "print(a_clicks.head())\n",
    "\n",
    "a_clicks_day= a_clicks.groupby(['day','is_click']).user_id.count().reset_index()\n",
    "a_clicks_day_pivot= a_clicks_day.pivot(\n",
    "  columns='day', index='is_click', values='user_id'\n",
    ").reset_index()\n",
    "print(a_clicks_day_pivot.head())"
   ]
  },
  {
   "cell_type": "code",
   "execution_count": 2,
   "metadata": {},
   "outputs": [
    {
     "name": "stdout",
     "output_type": "stream",
     "text": [
      "  utm_source  user_id\n",
      "0      email      255\n",
      "1   facebook      504\n",
      "2     google      680\n",
      "3    twitter      215\n",
      "is_click utm_source  False  True\n",
      "0             email    175    80\n",
      "1          facebook    324   180\n",
      "2            google    441   239\n",
      "3           twitter    149    66\n",
      "is_click utm_source  False  True  percent_clicked\n",
      "0             email    175    80         0.313725\n",
      "1          facebook    324   180         0.357143\n",
      "2            google    441   239         0.351471\n",
      "3           twitter    149    66         0.306977\n",
      "  experimental_group  user_id\n",
      "0                  A      827\n",
      "1                  B      827\n",
      "  experimental_group  is_click  user_id\n",
      "0                  A     False      517\n",
      "1                  A      True      310\n",
      "2                  B     False      572\n",
      "3                  B      True      255\n",
      "is_click experimental_group  False  True\n",
      "0                         A    517   310\n",
      "1                         B    572   255\n",
      "                                user_id utm_source            day  \\\n",
      "0  008b7c6c-7272-471e-b90e-930d548bd8d7     google   6 - Saturday   \n",
      "2  00f5d532-ed58-4570-b6d2-768df5f41aed    twitter    2 - Tuesday   \n",
      "5  013b0072-7b72-40e7-b698-98b4d0c9967f   facebook     1 - Monday   \n",
      "6  0153d85b-7660-4c39-92eb-1e1acd023280     google   4 - Thursday   \n",
      "7  01555297-d6e6-49ae-aeba-1b196fdbb09f     google  3 - Wednesday   \n",
      "\n",
      "  ad_click_timestamp experimental_group  is_click  \n",
      "0               7:18                  A      True  \n",
      "2                NaN                  A     False  \n",
      "5                NaN                  A     False  \n",
      "6                NaN                  A     False  \n",
      "7                NaN                  A     False  \n",
      "day  is_click  1 - Monday  2 - Tuesday  3 - Wednesday  4 - Thursday  \\\n",
      "0       False          70           76             86            69   \n",
      "1        True          43           43             38            47   \n",
      "\n",
      "day  5 - Friday  6 - Saturday  7 - Sunday  \n",
      "0            77            73          66  \n",
      "1            51            45          43  \n",
      "day  is_click  1 - Monday  2 - Tuesday  3 - Wednesday  4 - Thursday  \\\n",
      "0       False          81           74             89            87   \n",
      "1        True          32           45             35            29   \n",
      "\n",
      "day  5 - Friday  6 - Saturday  7 - Sunday  \n",
      "0            90            76          75  \n",
      "1            38            42          34  \n",
      "day  is_click  1 - Monday  2 - Tuesday  3 - Wednesday  4 - Thursday  \\\n",
      "1        True          43           43             38            47   \n",
      "1        True          32           45             35            29   \n",
      "\n",
      "day  5 - Friday  6 - Saturday  7 - Sunday  \n",
      "1            51            45          43  \n",
      "1            38            42          34  \n"
     ]
    }
   ],
   "source": [
    "b_clicks_day= b_clicks.groupby(['day','is_click']).user_id.count().reset_index()\n",
    "b_clicks_day_pivot= b_clicks_day.pivot(\n",
    "  columns='day', index='is_click', values='user_id'\n",
    ").reset_index()\n",
    "print(b_clicks_day_pivot.head())\n"
   ]
  },
  {
   "cell_type": "code",
   "execution_count": null,
   "metadata": {},
   "outputs": [],
   "source": [
    "compare_ab= pd.concat([a_clicks_day_pivot[a_clicks_day_pivot['is_click']==True], b_clicks_day_pivot[b_clicks_day_pivot['is_click']==True]])\n",
    "print(compare_ab)"
   ]
  }
 ],
 "metadata": {
  "kernelspec": {
   "display_name": "Python 3",
   "language": "python",
   "name": "python3"
  },
  "language_info": {
   "codemirror_mode": {
    "name": "ipython",
    "version": 3
   },
   "file_extension": ".py",
   "mimetype": "text/x-python",
   "name": "python",
   "nbconvert_exporter": "python",
   "pygments_lexer": "ipython3",
   "version": "3.6.3"
  }
 },
 "nbformat": 4,
 "nbformat_minor": 2
}
